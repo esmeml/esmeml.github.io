{
  "nbformat": 4,
  "nbformat_minor": 0,
  "metadata": {
    "colab": {
      "name": "01_manipulating_data.ipynb",
      "version": "0.3.2",
      "provenance": [],
      "collapsed_sections": []
    },
    "kernelspec": {
      "display_name": "Python 3",
      "language": "python",
      "name": "python3"
    }
  },
  "cells": [
    {
      "metadata": {
        "id": "8UQlGuSC46zO",
        "colab_type": "text"
      },
      "cell_type": "markdown",
      "source": [
        "# Manipulating data using Python and Numpy"
      ]
    },
    {
      "metadata": {
        "id": "ba7mV7VW46zR",
        "colab_type": "text"
      },
      "cell_type": "markdown",
      "source": [
        "## Objective\n",
        "\n",
        "The goal of this notebook is to start manipulating data with [Python](https://python.org), [Numpy](https://www.numpy.org/), and [scikit-learn](https://scikit-learn.org/). \n",
        "\n",
        "## Dataset\n",
        "\n",
        "We will use the `digit` dataset. It contains digital images of handwritten digits.\n",
        "\n",
        "## Credits\n",
        "\n",
        "This notebook was inspired by Chloé-Agathe Azencott"
      ]
    },
    {
      "metadata": {
        "id": "cipFFcQM46zS",
        "colab_type": "text"
      },
      "cell_type": "markdown",
      "source": [
        "## 1. How to use Jupyter \n",
        "\n",
        "Jupyter is a web application that allows us to create and share documents such as this one, called _notebooks_. A _notebook_ comprises a set of _cells_. A cell may contain raw text, code, images, [markdown](https://en.wikipedia.org/wiki/Markdown) texts, such as this cell. Cells can be edit and executed.\n",
        "\n",
        "* You can run a cell by clicking inside it and hitting `Shift+Enter` (or the **Run** button in the toolbar).\n",
        "\n",
        "### Formatting texts\n",
        "\n",
        "Texts can be formatted using the [markdown](https://en.wikipedia.org/wiki/Markdown) [syntax](https://www.markdownguide.org/basic-syntax/). Furthermore, they can have mathematical equations, both inline $e^{i\\pi} + 1 = 0$ and displayed $$e^x=\\sum_{i=0}^\\infty \\frac{1}{i!}x^i$$ \n",
        "\n",
        "### Including $\\LaTeX$ equations\n",
        "\n",
        "Inline expressions can be added by surrounding the $\\LaTeX$ code with \\$\n",
        "\n",
        "```\n",
        "$e^{i\\pi} + 1 = 0$\n",
        "```\n",
        "\n",
        "Expressions on their own line are surrounded by \\$\\$\n",
        "\n",
        "```\n",
        "$$e^x=\\sum_{i=0}^\\infty \\frac{1}{i!}x^i$$ \n",
        "```\n",
        "\n",
        "You can check the oficial [guide](http://jupyter-notebook.readthedocs.io/en/latest/examples/Notebook/Working%20With%20Markdown%20Cells.html) to learn more about markdown support in Jupyter notebook.\n"
      ]
    },
    {
      "metadata": {
        "id": "dkxVxHbT46zT",
        "colab_type": "code",
        "colab": {}
      },
      "cell_type": "code",
      "source": [
        "2 + 2  # hit Shift+Enter to run"
      ],
      "execution_count": 0,
      "outputs": []
    },
    {
      "metadata": {
        "id": "LKwyxaDJ46zX",
        "colab_type": "text"
      },
      "cell_type": "markdown",
      "source": [
        "* If you want to create a new cell below the one you're running, hit `Alt+Enter` (or the **plus** button in the toolbar).\n",
        "* If the notebook hangs, you can restart it with \"**Restart**\" in the \"**Kernel**\" menu.\n",
        "\n",
        "Some tips on using a Jupyter notebook with Python:\n",
        "\n",
        "* A notebook behaves like an interactive python shell! This means that\n",
        "    * classes, functions, and variables defined at the cell level have global scope throughout the notebok\n",
        "    * hitting `Tab` will autocomplete the keyword you have started typing\n",
        "    * typing a question mark after a function name will load the interactive help for this function.\n",
        "    \n",
        "* Jupyter has special Python commands (i.e., shortcuts) called _magics_. For instance, \n",
        "   * `%bash` will allow you to run bash code\n",
        "   * `%paste` will allow you to paste a block of code while retaining its formating, and \n",
        "   * `%matplotlib inline` will import the visualization library matplotlib, and automatically display its plots inline, that is, below the cell. \n",
        "   * A full list is available at: http://ipython.readthedocs.io/en/stable/interactive/magics.html \n",
        "   \n",
        "* Learn more about the interactive Python shell here: http://ipython.readthedocs.io/en/stable/interactive/tutorial.html\n",
        "\n",
        "For more info on Jupyter access: https://jupyter.org/"
      ]
    },
    {
      "metadata": {
        "id": "YLH5L-gR46zY",
        "colab_type": "text"
      },
      "cell_type": "markdown",
      "source": [
        "## 2. Loading the data"
      ]
    },
    {
      "metadata": {
        "id": "Vm52YwAx46zZ",
        "colab_type": "text"
      },
      "cell_type": "markdown",
      "source": [
        "### Importing Numpy and Matplotlib. \n",
        "\n",
        "* Numpy (stands for Numerical Python) is the Python library for numerical computations, and in particular for the manipulation of vectors and matrices.\n",
        "\n",
        "* Matplotlib is a plotting library."
      ]
    },
    {
      "metadata": {
        "id": "_8wOynsQ46za",
        "colab_type": "code",
        "colab": {}
      },
      "cell_type": "code",
      "source": [
        "import numpy as np\n",
        "import matplotlib.pyplot as plt"
      ],
      "execution_count": 0,
      "outputs": []
    },
    {
      "metadata": {
        "id": "7n7C5xk646zd",
        "colab_type": "text"
      },
      "cell_type": "markdown",
      "source": [
        "In this course relies on `scikit-learn` library for machine learning in Python. Therefore, in this notebook, we will only use it to load one of the classical datasets that it makes available."
      ]
    },
    {
      "metadata": {
        "id": "49juOZfX46ze",
        "colab_type": "code",
        "colab": {}
      },
      "cell_type": "code",
      "source": [
        "# Import the dataset\n",
        "from sklearn.datasets import load_digits\n",
        "\n",
        "digits = load_digits()"
      ],
      "execution_count": 0,
      "outputs": []
    },
    {
      "metadata": {
        "id": "nKeu5Nif46zh",
        "colab_type": "text"
      },
      "cell_type": "markdown",
      "source": [
        "Checking the attributes of the `digits` dataset "
      ]
    },
    {
      "metadata": {
        "id": "fDFidP3T46zi",
        "colab_type": "code",
        "colab": {}
      },
      "cell_type": "code",
      "source": [
        "digits.keys()"
      ],
      "execution_count": 0,
      "outputs": []
    },
    {
      "metadata": {
        "id": "6ylTtXYu46zl",
        "colab_type": "code",
        "colab": {}
      },
      "cell_type": "code",
      "source": [
        "# Get descriptors and target to predict\n",
        "X, y = digits.data, digits.target"
      ],
      "execution_count": 0,
      "outputs": []
    },
    {
      "metadata": {
        "id": "9xeC1b3L46zn",
        "colab_type": "text"
      },
      "cell_type": "markdown",
      "source": [
        "We have loaded the data into two _numpy arrays_ X and y. \n",
        "\n",
        "* X is a two-dimensional array (i.e., a matrix), containing the samples as rows and the features describing them as columns. \n",
        "* y is a one-dimensional array (i.e., a vector), containing the labels."
      ]
    },
    {
      "metadata": {
        "id": "3OCv6-tY46zo",
        "colab_type": "text"
      },
      "cell_type": "markdown",
      "source": [
        "The dimension of an array is accessible via its `shape` attribute:"
      ]
    },
    {
      "metadata": {
        "id": "oWd6Irn346zp",
        "colab_type": "code",
        "colab": {}
      },
      "cell_type": "code",
      "source": [
        "print(X.shape)\n",
        "print(y.shape)"
      ],
      "execution_count": 0,
      "outputs": []
    },
    {
      "metadata": {
        "id": "Xd4cSrYQ46zx",
        "colab_type": "code",
        "colab": {}
      },
      "cell_type": "code",
      "source": [
        "# Get the shape of the data\n",
        "print(\"Number of samples: %d\" % X.shape[0])\n",
        "print(\"Number of pixels: %d\" % X.shape[1])\n",
        "print(\"Number of classes: %d\" % len(np.unique(y))) # number of unique values in y"
      ],
      "execution_count": 0,
      "outputs": []
    },
    {
      "metadata": {
        "id": "oOBDMRc346z9",
        "colab_type": "text"
      },
      "cell_type": "markdown",
      "source": [
        "We have loaded 1797 images, each containing 64 pixels (they are 8 x 8 images), and belonging to one of 10 classes (the digits from 0 to 9)."
      ]
    },
    {
      "metadata": {
        "id": "bLC5B0-O460B",
        "colab_type": "code",
        "colab": {}
      },
      "cell_type": "code",
      "source": [
        "# Pick one sample to \"visualize\" it\n",
        "sample_idx = 42\n",
        "\n",
        "print(X[sample_idx, :])\n",
        "print(y[sample_idx])"
      ],
      "execution_count": 0,
      "outputs": []
    },
    {
      "metadata": {
        "id": "OE12vcuU460G",
        "colab_type": "text"
      },
      "cell_type": "markdown",
      "source": [
        "__Question 1:__ \n",
        "* What is the type of X and y?\n",
        "* What is the dataset's description provided by `scikit-learn`?\n",
        "* Play with different values for `sample_idx`. Can you guess `y[sample_idx`]?"
      ]
    },
    {
      "metadata": {
        "id": "4fiNPe9A460G",
        "colab_type": "code",
        "colab": {}
      },
      "cell_type": "code",
      "source": [
        "# TODO"
      ],
      "execution_count": 0,
      "outputs": []
    },
    {
      "metadata": {
        "id": "CeUfQHjM460I",
        "colab_type": "text"
      },
      "cell_type": "markdown",
      "source": [
        "## 3. Visualizing the data"
      ]
    },
    {
      "metadata": {
        "id": "cWQ3sfo4460J",
        "colab_type": "text"
      },
      "cell_type": "markdown",
      "source": [
        "Each sample is a scanned image, of size 8x8, containing 64 pixels. They have been flattened out to a vector of size 64, such as `X[sample_idx, :]`. Each entry of that vector is the intensity of the corresponding pixel.\n",
        "\n",
        "Let us now visualize the original image."
      ]
    },
    {
      "metadata": {
        "id": "qmYKYoVu460K",
        "colab_type": "code",
        "colab": {}
      },
      "cell_type": "code",
      "source": [
        "# Reshape the vector X[sample_idx] in a 2D, 8x8 matrix\n",
        "sample_image = np.reshape(X[sample_idx, :], (8, 8))\n",
        "print(sample_image.shape)"
      ],
      "execution_count": 0,
      "outputs": []
    },
    {
      "metadata": {
        "id": "IoGb9N8z460P",
        "colab_type": "code",
        "colab": {}
      },
      "cell_type": "code",
      "source": [
        "# Display the corresponding image\n",
        "plt.imshow(sample_image)"
      ],
      "execution_count": 0,
      "outputs": []
    },
    {
      "metadata": {
        "id": "hcdqi3b2460V",
        "colab_type": "code",
        "colab": {}
      },
      "cell_type": "code",
      "source": [
        "# Let us improve visualization by using grayscale plotting \n",
        "plt.imshow(sample_image, cmap='binary')\n",
        "\n",
        "# Give the plot a title\n",
        "plt.title('The digit at index %d is a %d' % (sample_idx, y[sample_idx]))"
      ],
      "execution_count": 0,
      "outputs": []
    },
    {
      "metadata": {
        "id": "Ah4G0Jdj460m",
        "colab_type": "text"
      },
      "cell_type": "markdown",
      "source": [
        "__Question 2:__ \n",
        "Visualize all classes of digits in the data set."
      ]
    },
    {
      "metadata": {
        "id": "1pFePZp2460s",
        "colab_type": "code",
        "colab": {}
      },
      "cell_type": "code",
      "source": [
        "# TODO"
      ],
      "execution_count": 0,
      "outputs": []
    }
  ]
}